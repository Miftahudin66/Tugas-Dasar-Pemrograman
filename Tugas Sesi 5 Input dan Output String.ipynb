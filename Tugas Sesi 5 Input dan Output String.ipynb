{
 "cells": [
  {
   "cell_type": "code",
   "execution_count": 41,
   "id": "cfa3d7a0-760e-4815-b11a-602b61ed9286",
   "metadata": {},
   "outputs": [
    {
     "name": "stdin",
     "output_type": "stream",
     "text": [
      "Nama Lengkap : Miftahudin\n",
      "Tempat lahir : Sukabumi\n",
      "Tanggal lahir : 20\n",
      "Bulan lahir : Agustus\n",
      "Tahun lahir : 2003\n",
      "Jalan : Jalan Veteran\n",
      "RT : 05\n",
      "RW : 03\n",
      "Desa : Cicukang\n",
      "Kecamatan : Purabaya\n",
      "Kabupaten : Sukabumi\n",
      "Provinsi : Jawa Barat\n",
      "Kode Pos : 43187\n",
      "Agama : Islam\n",
      "Kewarganeraan : Indonesia\n",
      "Pendidikan terakhir : Sekolah Menengah Atas (SMA)\n",
      "Jurusan : Ilmu Pengetahuan Alam\n",
      "Telepon : 085798651770\n"
     ]
    },
    {
     "name": "stdout",
     "output_type": "stream",
     "text": [
      "\n",
      "===================================================BIODATA SEDERHANA============================================================\n",
      "\n",
      "Nama                                   : Miftahudin\n",
      "Tempat, Tanggal Lahir                  : Sukabumi, 20 Agustus 2003\n",
      "Alamat                                 : Jalan Veteran, RT.05/RW.03, Cicukang, Purabaya, Kab. Sukabumi, Jawa Barat, ID 43187\n",
      "Agama                                  : Islam\n",
      "Kewarganegaraan                        : Indonesia\n",
      "Pend. terakhir/Jurusan                 : Sekolah Menengah Atas (SMA)/Ilmu Pengetahuan Alam\n",
      "Telepon                                : 085798651770\n",
      "\n",
      "==================================================================================================================================\n"
     ]
    }
   ],
   "source": [
    "nama = input('Nama Lengkap :')\n",
    "\n",
    "tempat = input('Tempat lahir :')\n",
    "hari = input('Tanggal lahir :')\n",
    "bulan = input('Bulan lahir :')\n",
    "tahun = input('Tahun lahir :')\n",
    "\n",
    "jl = input('Jalan :')\n",
    "rt = input('RT :')\n",
    "rw = input('RW :')\n",
    "desa = input('Desa :')\n",
    "kec = input('Kecamatan :')\n",
    "kab = input('Kabupaten :')\n",
    "prov = input('Provinsi :')\n",
    "pos = input('Kode Pos :')\n",
    "\n",
    "agama = input('Agama :')\n",
    "kw = input('Kewarganeraan :')\n",
    "\n",
    "pd = input('Pendidikan terakhir :')\n",
    "jr = input('Jurusan :')\n",
    "\n",
    "telp = input('Telepon :')\n",
    "\n",
    "print(\"\\n===================================================BIODATA SEDERHANA============================================================\")\n",
    "print(\"\")\n",
    "\n",
    "print(\"Nama                                   : {}\". format(nama))\n",
    "print(\"Tempat, Tanggal Lahir                  : {0}, {1} {2} {3}\". format(tempat,hari,bulan,tahun))\n",
    "print(\"Alamat                                 : {0}, RT.{1}/RW.{2}, {3}, {4}, Kab. {5}, {6}, ID {7}\". format(jl,rt,rw,desa,kec,kab,prov,pos))\n",
    "print(\"Agama                                  : {}\". format(agama))\n",
    "print(\"Kewarganegaraan                        : {}\".format(kw))\n",
    "print(\"Pend. terakhir/Jurusan                 : {0}/{1}\". format(pd,jr))\n",
    "print(\"Telepon                                : {}\".format(telp))\n",
    "\n",
    "print(\"\\n==================================================================================================================================\")"
   ]
  },
  {
   "cell_type": "code",
   "execution_count": 43,
   "id": "3715772a-5c79-4255-89ae-43558bb463d4",
   "metadata": {},
   "outputs": [
    {
     "name": "stdout",
     "output_type": "stream",
     "text": [
      "\n",
      "putra nusa\n",
      "NIVERSITAS NSA PTRA SKABMI\n",
      "SUKABUMI PUTRA NUSA UNIVERSITAS\n",
      "UNPS\n",
      "TAS SAPU BUMI\n"
     ]
    }
   ],
   "source": [
    "unv = \"UNIVERSITAS NUSA PUTRA SUKABUMI\"\n",
    "\n",
    "sp = unv.split()      #variabel unv yang mengalami fungsi .split()\n",
    "low = unv.lower()     #variabel unv yang mengalami fungsi .lower()\n",
    "\n",
    "print(\"\")\n",
    "print(low[17:22], low[12:16])\n",
    "print(unv[1:11] + unv[11:13] + unv[14] + unv[15] + unv[16:18] + unv[19:22] + unv[22:24] + unv[25:28] + unv [29:31])\n",
    "print(sp[3], sp[2],sp[1],sp[0])\n",
    "print(sp[0][0] + sp[1][0] + sp[2][0] + sp[3][0])\n",
    "print(sp[0][8:], sp[1][2:] + sp[2][0:2], sp[3][4:])"
   ]
  },
  {
   "cell_type": "code",
   "execution_count": null,
   "id": "b91d51c6-c5e4-4957-91cc-d8ec5d9922dc",
   "metadata": {},
   "outputs": [],
   "source": []
  }
 ],
 "metadata": {
  "kernelspec": {
   "display_name": "Python 3 (ipykernel)",
   "language": "python",
   "name": "python3"
  },
  "language_info": {
   "codemirror_mode": {
    "name": "ipython",
    "version": 3
   },
   "file_extension": ".py",
   "mimetype": "text/x-python",
   "name": "python",
   "nbconvert_exporter": "python",
   "pygments_lexer": "ipython3",
   "version": "3.11.7"
  }
 },
 "nbformat": 4,
 "nbformat_minor": 5
}
